{
 "cells": [
  {
   "cell_type": "code",
   "execution_count": 11,
   "metadata": {},
   "outputs": [],
   "source": [
    "import pandas as pd\n",
    "import altair as alt"
   ]
  },
  {
   "cell_type": "code",
   "execution_count": 12,
   "metadata": {},
   "outputs": [],
   "source": [
    "e01 = {'charlotte': 357,\n",
    " 'erik': 76,\n",
    " 'florentijn': 235,\n",
    " 'joshua': 94,\n",
    " 'lakshmi': 343,\n",
    " 'marije': 219,\n",
    " 'remco': 165,\n",
    " 'renee': 102,\n",
    " 'rocky': 330,\n",
    " 'splinter': 341}"
   ]
  },
  {
   "cell_type": "code",
   "execution_count": 13,
   "metadata": {},
   "outputs": [],
   "source": [
    "e02 = {'charlotte': 289,\n",
    " 'erik': 146,\n",
    " 'florentijn': 345,\n",
    " 'joshua': 221,\n",
    " 'lakshmi': 549,\n",
    " 'marije': 190,\n",
    " 'remco': 11,\n",
    " 'renee': 135,\n",
    " 'rocky': 603,\n",
    " 'splinter': 533}"
   ]
  },
  {
   "cell_type": "code",
   "execution_count": 21,
   "metadata": {},
   "outputs": [],
   "source": [
    "e03 = {'charlotte': 436,\n",
    " 'erik': 19,\n",
    " 'florentijn': 513,\n",
    " 'joshua': 150,\n",
    " 'lakshmi': 347,\n",
    " 'marije': 179,\n",
    " 'remco': 8,\n",
    " 'renee': 211,\n",
    " 'rocky': 664,\n",
    " 'splinter': 509}"
   ]
  },
  {
   "cell_type": "code",
   "execution_count": 22,
   "metadata": {},
   "outputs": [],
   "source": [
    "eps_faces = [e01, e02, e03]\n",
    "eps_names = ['aflevering 1', 'aflevering 2', 'aflevering 3']"
   ]
  },
  {
   "cell_type": "code",
   "execution_count": 23,
   "metadata": {},
   "outputs": [],
   "source": [
    "df = pd.DataFrame(index=eps_names, data=eps_faces)\n",
    "df_pct = df.div(df.sum(axis=1), axis=0) * 100\n",
    "df_pct.loc['gemiddelde'] = df_pct.mean(axis=0)"
   ]
  },
  {
   "cell_type": "code",
   "execution_count": 24,
   "metadata": {},
   "outputs": [],
   "source": [
    "df_pct = df_pct.T\n",
    "ff = df_pct.sort_values('gemiddelde')"
   ]
  },
  {
   "cell_type": "code",
   "execution_count": 25,
   "metadata": {},
   "outputs": [],
   "source": [
    "df_pct = df_pct[['aflevering 1', 'aflevering 2', 'aflevering 3']]"
   ]
  },
  {
   "cell_type": "code",
   "execution_count": 26,
   "metadata": {},
   "outputs": [],
   "source": [
    "df_long = pd.melt(df_pct.reset_index(), id_vars='index', value_name='percentage', var_name='aflevering')\n",
    "df_long.columns = ['persoon', 'episode', '% voorkomen']"
   ]
  },
  {
   "cell_type": "code",
   "execution_count": 28,
   "metadata": {},
   "outputs": [],
   "source": [
    "c = alt.Chart(df_long, width=40).mark_bar().encode(\n",
    "    x=alt.X('episode', title=''),\n",
    "    y='% voorkomen',\n",
    "    column=alt.Column('persoon',sort=ff.index.tolist(), title=''),\n",
    "    color='episode',\n",
    "    tooltip=['persoon','episode', alt.Tooltip('% voorkomen', format='.1f')]\n",
    ").properties(title=['WIDM 2021', 'Gesorteerd op gemiddeld voorkomen over beide afleveringen'])"
   ]
  },
  {
   "cell_type": "code",
   "execution_count": 30,
   "metadata": {},
   "outputs": [
    {
     "output_type": "stream",
     "name": "stdout",
     "text": [
      "{\n  \"$schema\": \"https://vega.github.io/schema/vega-lite/v4.8.1.json\",\n  \"config\": {\n    \"view\": {\n      \"continuousHeight\": 300,\n      \"continuousWidth\": 400\n    }\n  },\n  \"data\": {\n    \"name\": \"data-45665f129e8f9d568c82a2a25a0c1e6e\"\n  },\n  \"datasets\": {\n    \"data-45665f129e8f9d568c82a2a25a0c1e6e\": [\n      {\n        \"% voorkomen\": 15.782493368700266,\n        \"episode\": \"aflevering 1\",\n        \"persoon\": \"charlotte\"\n      },\n      {\n        \"% voorkomen\": 3.359858532272325,\n        \"episode\": \"aflevering 1\",\n        \"persoon\": \"erik\"\n      },\n      {\n        \"% voorkomen\": 10.389036251105217,\n        \"episode\": \"aflevering 1\",\n        \"persoon\": \"florentijn\"\n      },\n      {\n        \"% voorkomen\": 4.155614500442087,\n        \"episode\": \"aflevering 1\",\n        \"persoon\": \"joshua\"\n      },\n      {\n        \"% voorkomen\": 15.163572060123784,\n        \"episode\": \"aflevering 1\",\n        \"persoon\": \"lakshmi\"\n      },\n      {\n        \"% voorkomen\": 9.681697612732096,\n        \"episode\": \"aflevering 1\",\n        \"persoon\": \"marije\"\n      },\n      {\n        \"% voorkomen\": 7.294429708222812,\n        \"episode\": \"aflevering 1\",\n        \"persoon\": \"remco\"\n      },\n      {\n        \"% voorkomen\": 4.509283819628647,\n        \"episode\": \"aflevering 1\",\n        \"persoon\": \"renee\"\n      },\n      {\n        \"% voorkomen\": 14.588859416445624,\n        \"episode\": \"aflevering 1\",\n        \"persoon\": \"rocky\"\n      },\n      {\n        \"% voorkomen\": 15.075154730327146,\n        \"episode\": \"aflevering 1\",\n        \"persoon\": \"splinter\"\n      },\n      {\n        \"% voorkomen\": 9.56320317670417,\n        \"episode\": \"aflevering 2\",\n        \"persoon\": \"charlotte\"\n      },\n      {\n        \"% voorkomen\": 4.831237590999338,\n        \"episode\": \"aflevering 2\",\n        \"persoon\": \"erik\"\n      },\n      {\n        \"% voorkomen\": 11.4162806088683,\n        \"episode\": \"aflevering 2\",\n        \"persoon\": \"florentijn\"\n      },\n      {\n        \"% voorkomen\": 7.313037723362012,\n        \"episode\": \"aflevering 2\",\n        \"persoon\": \"joshua\"\n      },\n      {\n        \"% voorkomen\": 18.166776968894773,\n        \"episode\": \"aflevering 2\",\n        \"persoon\": \"lakshmi\"\n      },\n      {\n        \"% voorkomen\": 6.287227001985441,\n        \"episode\": \"aflevering 2\",\n        \"persoon\": \"marije\"\n      },\n      {\n        \"% voorkomen\": 0.3639973527465255,\n        \"episode\": \"aflevering 2\",\n        \"persoon\": \"remco\"\n      },\n      {\n        \"% voorkomen\": 4.4672402382528125,\n        \"episode\": \"aflevering 2\",\n        \"persoon\": \"renee\"\n      },\n      {\n        \"% voorkomen\": 19.953673064195897,\n        \"episode\": \"aflevering 2\",\n        \"persoon\": \"rocky\"\n      },\n      {\n        \"% voorkomen\": 17.637326273990734,\n        \"episode\": \"aflevering 2\",\n        \"persoon\": \"splinter\"\n      },\n      {\n        \"% voorkomen\": 14.361001317523057,\n        \"episode\": \"aflevering 3\",\n        \"persoon\": \"charlotte\"\n      },\n      {\n        \"% voorkomen\": 0.6258234519104084,\n        \"episode\": \"aflevering 3\",\n        \"persoon\": \"erik\"\n      },\n      {\n        \"% voorkomen\": 16.897233201581027,\n        \"episode\": \"aflevering 3\",\n        \"persoon\": \"florentijn\"\n      },\n      {\n        \"% voorkomen\": 4.940711462450593,\n        \"episode\": \"aflevering 3\",\n        \"persoon\": \"joshua\"\n      },\n      {\n        \"% voorkomen\": 11.429512516469039,\n        \"episode\": \"aflevering 3\",\n        \"persoon\": \"lakshmi\"\n      },\n      {\n        \"% voorkomen\": 5.895915678524374,\n        \"episode\": \"aflevering 3\",\n        \"persoon\": \"marije\"\n      },\n      {\n        \"% voorkomen\": 0.2635046113306983,\n        \"episode\": \"aflevering 3\",\n        \"persoon\": \"remco\"\n      },\n      {\n        \"% voorkomen\": 6.949934123847168,\n        \"episode\": \"aflevering 3\",\n        \"persoon\": \"renee\"\n      },\n      {\n        \"% voorkomen\": 21.870882740447957,\n        \"episode\": \"aflevering 3\",\n        \"persoon\": \"rocky\"\n      },\n      {\n        \"% voorkomen\": 16.76548089591568,\n        \"episode\": \"aflevering 3\",\n        \"persoon\": \"splinter\"\n      }\n    ]\n  },\n  \"encoding\": {\n    \"color\": {\n      \"field\": \"episode\",\n      \"type\": \"nominal\"\n    },\n    \"column\": {\n      \"field\": \"persoon\",\n      \"sort\": [\n        \"remco\",\n        \"erik\",\n        \"renee\",\n        \"joshua\",\n        \"marije\",\n        \"florentijn\",\n        \"charlotte\",\n        \"lakshmi\",\n        \"splinter\",\n        \"rocky\"\n      ],\n      \"title\": \"\",\n      \"type\": \"nominal\"\n    },\n    \"tooltip\": [\n      {\n        \"field\": \"persoon\",\n        \"type\": \"nominal\"\n      },\n      {\n        \"field\": \"episode\",\n        \"type\": \"nominal\"\n      },\n      {\n        \"field\": \"% voorkomen\",\n        \"format\": \".1f\",\n        \"type\": \"quantitative\"\n      }\n    ],\n    \"x\": {\n      \"field\": \"episode\",\n      \"title\": \"\",\n      \"type\": \"nominal\"\n    },\n    \"y\": {\n      \"field\": \"% voorkomen\",\n      \"type\": \"quantitative\"\n    }\n  },\n  \"mark\": \"bar\",\n  \"title\": [\n    \"WIDM 2021\",\n    \"Gesorteerd op gemiddeld voorkomen over beide afleveringen\"\n  ],\n  \"width\": 40\n}\n"
     ]
    }
   ],
   "source": [
    "print(c.to_json())"
   ]
  },
  {
   "cell_type": "code",
   "execution_count": null,
   "metadata": {},
   "outputs": [],
   "source": []
  }
 ],
 "metadata": {
  "kernelspec": {
   "display_name": "Python 3",
   "language": "python",
   "name": "python3"
  },
  "language_info": {
   "codemirror_mode": {
    "name": "ipython",
    "version": 3
   },
   "file_extension": ".py",
   "mimetype": "text/x-python",
   "name": "python",
   "nbconvert_exporter": "python",
   "pygments_lexer": "ipython3",
   "version": "3.7.6-final"
  }
 },
 "nbformat": 4,
 "nbformat_minor": 4
}