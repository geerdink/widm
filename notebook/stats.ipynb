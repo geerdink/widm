{
 "cells": [
  {
   "cell_type": "code",
   "execution_count": 1,
   "metadata": {},
   "outputs": [],
   "source": [
    "import pandas as pd\n",
    "import altair as alt"
   ]
  },
  {
   "cell_type": "code",
   "execution_count": 2,
   "metadata": {},
   "outputs": [],
   "source": [
    "e01 = {\n",
    "    'anita': 129,\n",
    "    'buddy': 79,\n",
    "    'claes': 38,\n",
    "    'jaike': 71,\n",
    "    'johan': 130,\n",
    "    'leonie': 89,\n",
    "    'miljuschka': 57,\n",
    "    'nathan': 83,\n",
    "    'rob': 22,\n",
    "    'tina': 155\n",
    "}"
   ]
  },
  {
   "cell_type": "code",
   "execution_count": 3,
   "metadata": {},
   "outputs": [],
   "source": [
    "e02 = {\n",
    "    'anita': 15,\n",
    "    'buddy': 113,\n",
    "    'claes': 146,\n",
    "    'jaike': 108,\n",
    "    'johan': 352,\n",
    "    'leonie': 256,\n",
    "    'miljuschka': 76,\n",
    "    'nathan': 162,\n",
    "    'rob': 81,\n",
    "    'tina': 197\n",
    "}"
   ]
  },
  {
   "cell_type": "code",
   "execution_count": 4,
   "metadata": {},
   "outputs": [],
   "source": [
    "eps_faces = [e01, e02]\n",
    "eps_names = ['aflevering 1', 'aflevering 2']"
   ]
  },
  {
   "cell_type": "code",
   "execution_count": 5,
   "metadata": {},
   "outputs": [],
   "source": [
    "df = pd.DataFrame(index=eps_names, data=eps_faces)\n",
    "df_pct = df.div(df.sum(axis=1), axis=0) * 100\n",
    "df_pct.loc['gemiddelde'] = df_pct.mean(axis=0)"
   ]
  },
  {
   "cell_type": "code",
   "execution_count": 6,
   "metadata": {},
   "outputs": [],
   "source": [
    "df_pct = df_pct.T\n",
    "ff = df_pct.sort_values('gemiddelde')"
   ]
  },
  {
   "cell_type": "code",
   "execution_count": 7,
   "metadata": {},
   "outputs": [],
   "source": [
    "df_long = pd.melt(df_pct.reset_index(), id_vars='index', value_name='percentage', var_name='aflevering')\n",
    "df_long.columns = ['persoon', 'episode', 'percentage']"
   ]
  },
  {
   "cell_type": "code",
   "execution_count": 8,
   "metadata": {},
   "outputs": [
    {
     "data": {
      "text/html": [
       "\n",
       "<div id=\"altair-viz-1\"></div>\n",
       "<script type=\"text/javascript\">\n",
       "  (function(spec, embedOpt){\n",
       "    const outputDiv = document.getElementById(\"altair-viz-1\");\n",
       "    const paths = {\n",
       "      \"vega\": \"https://cdn.jsdelivr.net/npm//vega@5?noext\",\n",
       "      \"vega-lib\": \"https://cdn.jsdelivr.net/npm//vega-lib?noext\",\n",
       "      \"vega-lite\": \"https://cdn.jsdelivr.net/npm//vega-lite@4.0.0?noext\",\n",
       "      \"vega-embed\": \"https://cdn.jsdelivr.net/npm//vega-embed@6?noext\",\n",
       "    };\n",
       "\n",
       "    function loadScript(lib) {\n",
       "      return new Promise(function(resolve, reject) {\n",
       "        var s = document.createElement('script');\n",
       "        s.src = paths[lib];\n",
       "        s.async = true;\n",
       "        s.onload = () => resolve(paths[lib]);\n",
       "        s.onerror = () => reject(`Error loading script: ${paths[lib]}`);\n",
       "        document.getElementsByTagName(\"head\")[0].appendChild(s);\n",
       "      });\n",
       "    }\n",
       "\n",
       "    function showError(err) {\n",
       "      outputDiv.innerHTML = `<div class=\"error\" style=\"color:red;\">${err}</div>`;\n",
       "      throw err;\n",
       "    }\n",
       "\n",
       "    function displayChart(vegaEmbed) {\n",
       "      vegaEmbed(outputDiv, spec, embedOpt)\n",
       "        .catch(err => showError(`Javascript Error: ${err.message}<br>This usually means there's a typo in your chart specification. See the javascript console for the full traceback.`));\n",
       "    }\n",
       "\n",
       "    if(typeof define === \"function\" && define.amd) {\n",
       "      requirejs.config({paths});\n",
       "      require([\"vega-embed\"], displayChart, err => showError(`Error loading script: ${err.message}`));\n",
       "    } else if (typeof vegaEmbed === \"function\") {\n",
       "      displayChart(vegaEmbed);\n",
       "    } else {\n",
       "      loadScript(\"vega\")\n",
       "        .then(() => loadScript(\"vega-lite\"))\n",
       "        .then(() => loadScript(\"vega-embed\"))\n",
       "        .catch(showError)\n",
       "        .then(() => displayChart(vegaEmbed));\n",
       "    }\n",
       "  })({\"config\": {\"view\": {\"continuousWidth\": 400, \"continuousHeight\": 300}}, \"data\": {\"name\": \"data-dfcb4a0600ff79e9a6752242b134e762\"}, \"mark\": \"bar\", \"encoding\": {\"color\": {\"type\": \"nominal\", \"field\": \"episode\"}, \"column\": {\"type\": \"nominal\", \"field\": \"persoon\", \"sort\": [\"rob\", \"miljuschka\", \"claes\", \"jaike\", \"anita\", \"buddy\", \"nathan\", \"leonie\", \"tina\", \"johan\"]}, \"tooltip\": [{\"type\": \"nominal\", \"field\": \"persoon\"}, {\"type\": \"nominal\", \"field\": \"episode\"}, {\"type\": \"quantitative\", \"field\": \"percentage\"}], \"x\": {\"type\": \"nominal\", \"field\": \"episode\"}, \"y\": {\"type\": \"quantitative\", \"field\": \"percentage\"}}, \"width\": 40, \"$schema\": \"https://vega.github.io/schema/vega-lite/v4.0.0.json\", \"datasets\": {\"data-dfcb4a0600ff79e9a6752242b134e762\": [{\"persoon\": \"anita\", \"episode\": \"aflevering 1\", \"percentage\": 15.123094958968347}, {\"persoon\": \"buddy\", \"episode\": \"aflevering 1\", \"percentage\": 9.261430246189919}, {\"persoon\": \"claes\", \"episode\": \"aflevering 1\", \"percentage\": 4.4548651817116065}, {\"persoon\": \"jaike\", \"episode\": \"aflevering 1\", \"percentage\": 8.32356389214537}, {\"persoon\": \"johan\", \"episode\": \"aflevering 1\", \"percentage\": 15.240328253223915}, {\"persoon\": \"leonie\", \"episode\": \"aflevering 1\", \"percentage\": 10.433763188745605}, {\"persoon\": \"miljuschka\", \"episode\": \"aflevering 1\", \"percentage\": 6.682297772567409}, {\"persoon\": \"nathan\", \"episode\": \"aflevering 1\", \"percentage\": 9.730363423212191}, {\"persoon\": \"rob\", \"episode\": \"aflevering 1\", \"percentage\": 2.5791324736225087}, {\"persoon\": \"tina\", \"episode\": \"aflevering 1\", \"percentage\": 18.17116060961313}, {\"persoon\": \"anita\", \"episode\": \"aflevering 2\", \"percentage\": 0.9960159362549801}, {\"persoon\": \"buddy\", \"episode\": \"aflevering 2\", \"percentage\": 7.50332005312085}, {\"persoon\": \"claes\", \"episode\": \"aflevering 2\", \"percentage\": 9.694555112881806}, {\"persoon\": \"jaike\", \"episode\": \"aflevering 2\", \"percentage\": 7.171314741035857}, {\"persoon\": \"johan\", \"episode\": \"aflevering 2\", \"percentage\": 23.37317397078353}, {\"persoon\": \"leonie\", \"episode\": \"aflevering 2\", \"percentage\": 16.99867197875166}, {\"persoon\": \"miljuschka\", \"episode\": \"aflevering 2\", \"percentage\": 5.046480743691899}, {\"persoon\": \"nathan\", \"episode\": \"aflevering 2\", \"percentage\": 10.756972111553784}, {\"persoon\": \"rob\", \"episode\": \"aflevering 2\", \"percentage\": 5.378486055776892}, {\"persoon\": \"tina\", \"episode\": \"aflevering 2\", \"percentage\": 13.081009296148737}, {\"persoon\": \"anita\", \"episode\": \"gemiddelde\", \"percentage\": 8.059555447611663}, {\"persoon\": \"buddy\", \"episode\": \"gemiddelde\", \"percentage\": 8.382375149655385}, {\"persoon\": \"claes\", \"episode\": \"gemiddelde\", \"percentage\": 7.074710147296706}, {\"persoon\": \"jaike\", \"episode\": \"gemiddelde\", \"percentage\": 7.747439316590613}, {\"persoon\": \"johan\", \"episode\": \"gemiddelde\", \"percentage\": 19.306751112003724}, {\"persoon\": \"leonie\", \"episode\": \"gemiddelde\", \"percentage\": 13.716217583748632}, {\"persoon\": \"miljuschka\", \"episode\": \"gemiddelde\", \"percentage\": 5.864389258129654}, {\"persoon\": \"nathan\", \"episode\": \"gemiddelde\", \"percentage\": 10.243667767382988}, {\"persoon\": \"rob\", \"episode\": \"gemiddelde\", \"percentage\": 3.9788092646997004}, {\"persoon\": \"tina\", \"episode\": \"gemiddelde\", \"percentage\": 15.626084952880934}]}}, {\"mode\": \"vega-lite\"});\n",
       "</script>"
      ],
      "text/plain": [
       "alt.Chart(...)"
      ]
     },
     "execution_count": 8,
     "metadata": {},
     "output_type": "execute_result"
    }
   ],
   "source": [
    "alt.Chart(df_long, width=40).mark_bar().encode(\n",
    "    x='episode', \n",
    "    y='percentage',\n",
    "    column=alt.Column('persoon',sort=ff.index.tolist()),\n",
    "    color='episode',\n",
    "    tooltip=['persoon','episode', 'percentage']\n",
    ")"
   ]
  },
  {
   "cell_type": "code",
   "execution_count": null,
   "metadata": {},
   "outputs": [],
   "source": [
    "# spreiden op jaike of claes"
   ]
  }
 ],
 "metadata": {
  "kernelspec": {
   "display_name": "Python 3",
   "language": "python",
   "name": "python3"
  },
  "language_info": {
   "codemirror_mode": {
    "name": "ipython",
    "version": 3
   },
   "file_extension": ".py",
   "mimetype": "text/x-python",
   "name": "python",
   "nbconvert_exporter": "python",
   "pygments_lexer": "ipython3",
   "version": "3.7.3"
  }
 },
 "nbformat": 4,
 "nbformat_minor": 4
}
