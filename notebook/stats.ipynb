{
 "cells": [
  {
   "cell_type": "code",
   "execution_count": 1,
   "metadata": {},
   "outputs": [],
   "source": [
    "import pandas as pd\n",
    "import altair as alt"
   ]
  },
  {
   "cell_type": "code",
   "execution_count": 2,
   "metadata": {},
   "outputs": [],
   "source": [
    "e01 = {'charlotte': 357,\n",
    " 'erik': 76,\n",
    " 'florentijn': 235,\n",
    " 'joshua': 94,\n",
    " 'lakshmi': 343,\n",
    " 'marije': 219,\n",
    " 'remco': 165,\n",
    " 'renee': 102,\n",
    " 'rocky': 330,\n",
    " 'splinter': 341}"
   ]
  },
  {
   "cell_type": "code",
   "execution_count": 3,
   "metadata": {},
   "outputs": [],
   "source": [
    "e02 = {'charlotte': 357,\n",
    " 'erik': 76,\n",
    " 'florentijn': 235,\n",
    " 'joshua': 94,\n",
    " 'lakshmi': 343,\n",
    " 'marije': 219,\n",
    " 'remco': 165,\n",
    " 'renee': 102,\n",
    " 'rocky': 330,\n",
    " 'splinter': 341}"
   ]
  },
  {
   "cell_type": "code",
   "execution_count": 4,
   "metadata": {},
   "outputs": [],
   "source": [
    "e03 = {'charlotte': 357,\n",
    " 'erik': 76,\n",
    " 'florentijn': 235,\n",
    " 'joshua': 94,\n",
    " 'lakshmi': 343,\n",
    " 'marije': 219,\n",
    " 'remco': 165,\n",
    " 'renee': 102,\n",
    " 'rocky': 330,\n",
    " 'splinter': 341}"
   ]
  },
  {
   "cell_type": "code",
   "execution_count": 5,
   "metadata": {},
   "outputs": [],
   "source": [
    "eps_faces = [e01, e02, e03]\n",
    "eps_names = ['aflevering 1', 'aflevering 2', 'aflevering 3']"
   ]
  },
  {
   "cell_type": "code",
   "execution_count": 6,
   "metadata": {},
   "outputs": [],
   "source": [
    "df = pd.DataFrame(index=eps_names, data=eps_faces)\n",
    "df_pct = df.div(df.sum(axis=1), axis=0) * 100\n",
    "df_pct.loc['gemiddelde'] = df_pct.mean(axis=0)"
   ]
  },
  {
   "cell_type": "code",
   "execution_count": 7,
   "metadata": {},
   "outputs": [],
   "source": [
    "df_pct = df_pct.T\n",
    "ff = df_pct.sort_values('gemiddelde')"
   ]
  },
  {
   "cell_type": "code",
   "execution_count": 8,
   "metadata": {},
   "outputs": [],
   "source": [
    "df_pct = df_pct[['aflevering 1', 'aflevering 2', 'aflevering 3']]"
   ]
  },
  {
   "cell_type": "code",
   "execution_count": 9,
   "metadata": {},
   "outputs": [],
   "source": [
    "df_long = pd.melt(df_pct.reset_index(), id_vars='index', value_name='percentage', var_name='aflevering')\n",
    "df_long.columns = ['persoon', 'episode', '% voorkomen']"
   ]
  },
  {
   "cell_type": "code",
   "execution_count": 10,
   "metadata": {},
   "outputs": [
    {
     "output_type": "execute_result",
     "data": {
      "text/html": "\n<div id=\"altair-viz-d2998e52309c4a3b8f79c7f0cd780460\"></div>\n<script type=\"text/javascript\">\n  (function(spec, embedOpt){\n    let outputDiv = document.currentScript.previousElementSibling;\n    if (outputDiv.id !== \"altair-viz-d2998e52309c4a3b8f79c7f0cd780460\") {\n      outputDiv = document.getElementById(\"altair-viz-d2998e52309c4a3b8f79c7f0cd780460\");\n    }\n    const paths = {\n      \"vega\": \"https://cdn.jsdelivr.net/npm//vega@5?noext\",\n      \"vega-lib\": \"https://cdn.jsdelivr.net/npm//vega-lib?noext\",\n      \"vega-lite\": \"https://cdn.jsdelivr.net/npm//vega-lite@4.8.1?noext\",\n      \"vega-embed\": \"https://cdn.jsdelivr.net/npm//vega-embed@6?noext\",\n    };\n\n    function loadScript(lib) {\n      return new Promise(function(resolve, reject) {\n        var s = document.createElement('script');\n        s.src = paths[lib];\n        s.async = true;\n        s.onload = () => resolve(paths[lib]);\n        s.onerror = () => reject(`Error loading script: ${paths[lib]}`);\n        document.getElementsByTagName(\"head\")[0].appendChild(s);\n      });\n    }\n\n    function showError(err) {\n      outputDiv.innerHTML = `<div class=\"error\" style=\"color:red;\">${err}</div>`;\n      throw err;\n    }\n\n    function displayChart(vegaEmbed) {\n      vegaEmbed(outputDiv, spec, embedOpt)\n        .catch(err => showError(`Javascript Error: ${err.message}<br>This usually means there's a typo in your chart specification. See the javascript console for the full traceback.`));\n    }\n\n    if(typeof define === \"function\" && define.amd) {\n      requirejs.config({paths});\n      require([\"vega-embed\"], displayChart, err => showError(`Error loading script: ${err.message}`));\n    } else if (typeof vegaEmbed === \"function\") {\n      displayChart(vegaEmbed);\n    } else {\n      loadScript(\"vega\")\n        .then(() => loadScript(\"vega-lite\"))\n        .then(() => loadScript(\"vega-embed\"))\n        .catch(showError)\n        .then(() => displayChart(vegaEmbed));\n    }\n  })({\"config\": {\"view\": {\"continuousWidth\": 400, \"continuousHeight\": 300}}, \"data\": {\"name\": \"data-a081bf9b8f9f40ee1467a27f75a51add\"}, \"mark\": \"bar\", \"encoding\": {\"color\": {\"type\": \"nominal\", \"field\": \"episode\"}, \"column\": {\"type\": \"nominal\", \"field\": \"persoon\", \"sort\": [\"erik\", \"joshua\", \"renee\", \"remco\", \"marije\", \"florentijn\", \"rocky\", \"splinter\", \"lakshmi\", \"charlotte\"], \"title\": \"\"}, \"tooltip\": [{\"type\": \"nominal\", \"field\": \"persoon\"}, {\"type\": \"nominal\", \"field\": \"episode\"}, {\"type\": \"quantitative\", \"field\": \"% voorkomen\", \"format\": \".1f\"}], \"x\": {\"type\": \"nominal\", \"field\": \"episode\", \"title\": \"\"}, \"y\": {\"type\": \"quantitative\", \"field\": \"% voorkomen\"}}, \"title\": [\"WIDM 2021\", \"Gesorteerd op gemiddeld voorkomen over beide afleveringen\"], \"width\": 40, \"$schema\": \"https://vega.github.io/schema/vega-lite/v4.8.1.json\", \"datasets\": {\"data-a081bf9b8f9f40ee1467a27f75a51add\": [{\"persoon\": \"charlotte\", \"episode\": \"aflevering 1\", \"% voorkomen\": 15.782493368700266}, {\"persoon\": \"erik\", \"episode\": \"aflevering 1\", \"% voorkomen\": 3.359858532272325}, {\"persoon\": \"florentijn\", \"episode\": \"aflevering 1\", \"% voorkomen\": 10.389036251105217}, {\"persoon\": \"joshua\", \"episode\": \"aflevering 1\", \"% voorkomen\": 4.155614500442087}, {\"persoon\": \"lakshmi\", \"episode\": \"aflevering 1\", \"% voorkomen\": 15.163572060123784}, {\"persoon\": \"marije\", \"episode\": \"aflevering 1\", \"% voorkomen\": 9.681697612732096}, {\"persoon\": \"remco\", \"episode\": \"aflevering 1\", \"% voorkomen\": 7.294429708222812}, {\"persoon\": \"renee\", \"episode\": \"aflevering 1\", \"% voorkomen\": 4.509283819628647}, {\"persoon\": \"rocky\", \"episode\": \"aflevering 1\", \"% voorkomen\": 14.588859416445624}, {\"persoon\": \"splinter\", \"episode\": \"aflevering 1\", \"% voorkomen\": 15.075154730327146}, {\"persoon\": \"charlotte\", \"episode\": \"aflevering 2\", \"% voorkomen\": 15.782493368700266}, {\"persoon\": \"erik\", \"episode\": \"aflevering 2\", \"% voorkomen\": 3.359858532272325}, {\"persoon\": \"florentijn\", \"episode\": \"aflevering 2\", \"% voorkomen\": 10.389036251105217}, {\"persoon\": \"joshua\", \"episode\": \"aflevering 2\", \"% voorkomen\": 4.155614500442087}, {\"persoon\": \"lakshmi\", \"episode\": \"aflevering 2\", \"% voorkomen\": 15.163572060123784}, {\"persoon\": \"marije\", \"episode\": \"aflevering 2\", \"% voorkomen\": 9.681697612732096}, {\"persoon\": \"remco\", \"episode\": \"aflevering 2\", \"% voorkomen\": 7.294429708222812}, {\"persoon\": \"renee\", \"episode\": \"aflevering 2\", \"% voorkomen\": 4.509283819628647}, {\"persoon\": \"rocky\", \"episode\": \"aflevering 2\", \"% voorkomen\": 14.588859416445624}, {\"persoon\": \"splinter\", \"episode\": \"aflevering 2\", \"% voorkomen\": 15.075154730327146}, {\"persoon\": \"charlotte\", \"episode\": \"aflevering 3\", \"% voorkomen\": 15.782493368700266}, {\"persoon\": \"erik\", \"episode\": \"aflevering 3\", \"% voorkomen\": 3.359858532272325}, {\"persoon\": \"florentijn\", \"episode\": \"aflevering 3\", \"% voorkomen\": 10.389036251105217}, {\"persoon\": \"joshua\", \"episode\": \"aflevering 3\", \"% voorkomen\": 4.155614500442087}, {\"persoon\": \"lakshmi\", \"episode\": \"aflevering 3\", \"% voorkomen\": 15.163572060123784}, {\"persoon\": \"marije\", \"episode\": \"aflevering 3\", \"% voorkomen\": 9.681697612732096}, {\"persoon\": \"remco\", \"episode\": \"aflevering 3\", \"% voorkomen\": 7.294429708222812}, {\"persoon\": \"renee\", \"episode\": \"aflevering 3\", \"% voorkomen\": 4.509283819628647}, {\"persoon\": \"rocky\", \"episode\": \"aflevering 3\", \"% voorkomen\": 14.588859416445624}, {\"persoon\": \"splinter\", \"episode\": \"aflevering 3\", \"% voorkomen\": 15.075154730327146}]}}, {\"mode\": \"vega-lite\"});\n</script>",
      "text/plain": [
       "alt.Chart(...)"
      ]
     },
     "metadata": {},
     "execution_count": 10
    }
   ],
   "source": [
    "alt.Chart(df_long, width=40).mark_bar().encode(\n",
    "    x=alt.X('episode', title=''),\n",
    "    y='% voorkomen',\n",
    "    column=alt.Column('persoon',sort=ff.index.tolist(), title=''),\n",
    "    color='episode',\n",
    "    tooltip=['persoon','episode', alt.Tooltip('% voorkomen', format='.1f')]\n",
    ").properties(title=['WIDM 2021', 'Gesorteerd op gemiddeld voorkomen over beide afleveringen'])"
   ]
  },
  {
   "cell_type": "code",
   "execution_count": null,
   "metadata": {},
   "outputs": [],
   "source": [
    "# spreiden op jaike of claes"
   ]
  }
 ],
 "metadata": {
  "kernelspec": {
   "display_name": "Python 3",
   "language": "python",
   "name": "python3"
  },
  "language_info": {
   "codemirror_mode": {
    "name": "ipython",
    "version": 3
   },
   "file_extension": ".py",
   "mimetype": "text/x-python",
   "name": "python",
   "nbconvert_exporter": "python",
   "pygments_lexer": "ipython3",
   "version": "3.7.6-final"
  }
 },
 "nbformat": 4,
 "nbformat_minor": 4
}