{
 "cells": [
  {
   "cell_type": "code",
   "execution_count": 1,
   "metadata": {},
   "outputs": [],
   "source": [
    "import face_recognition\n",
    "from PIL import Image, ImageDraw"
   ]
  },
  {
   "cell_type": "code",
   "execution_count": 5,
   "metadata": {},
   "outputs": [],
   "source": [
    "image = face_recognition.load_image_file(\"../img/avatar_jaike.jpg\")"
   ]
  },
  {
   "cell_type": "code",
   "execution_count": 6,
   "metadata": {},
   "outputs": [],
   "source": [
    "face_landmarks_list = face_recognition.face_landmarks(image)"
   ]
  },
  {
   "cell_type": "code",
   "execution_count": 7,
   "metadata": {},
   "outputs": [
    {
     "name": "stdout",
     "output_type": "stream",
     "text": [
      "I found 1 face(s) in this photograph.\n",
      "The chin in this face has the following points: [(62, 123), (63, 137), (65, 150), (68, 164), (74, 176), (84, 186), (97, 194), (112, 199), (127, 200), (141, 198), (154, 192), (164, 182), (171, 171), (175, 158), (176, 144), (177, 130), (177, 117)]\n",
      "The left_eyebrow in this face has the following points: [(78, 104), (86, 97), (96, 95), (107, 95), (117, 98)]\n",
      "The right_eyebrow in this face has the following points: [(132, 97), (142, 94), (152, 93), (162, 96), (169, 103)]\n",
      "The nose_bridge in this face has the following points: [(126, 108), (127, 115), (127, 122), (128, 129)]\n",
      "The nose_tip in this face has the following points: [(117, 142), (122, 142), (128, 143), (132, 142), (137, 142)]\n",
      "The left_eye in this face has the following points: [(88, 114), (95, 110), (102, 109), (109, 114), (102, 115), (95, 116)]\n",
      "The right_eye in this face has the following points: [(140, 113), (147, 108), (154, 108), (160, 112), (154, 114), (147, 114)]\n",
      "The top_lip in this face has the following points: [(105, 164), (114, 158), (122, 154), (127, 155), (132, 154), (140, 158), (148, 164), (145, 164), (132, 162), (127, 162), (122, 162), (109, 163)]\n",
      "The bottom_lip in this face has the following points: [(148, 164), (140, 169), (133, 171), (127, 172), (122, 171), (114, 168), (105, 164), (109, 163), (122, 162), (127, 163), (132, 163), (145, 164)]\n"
     ]
    }
   ],
   "source": [
    "print(\"I found {} face(s) in this photograph.\".format(len(face_landmarks_list)))\n",
    "\n",
    "# Create a PIL imagedraw object so we can draw on the picture\n",
    "pil_image = Image.fromarray(image)\n",
    "d = ImageDraw.Draw(pil_image)\n",
    "\n",
    "for face_landmarks in face_landmarks_list:\n",
    "\n",
    "    # Print the location of each facial feature in this image\n",
    "    for facial_feature in face_landmarks.keys():\n",
    "        print(\"The {} in this face has the following points: {}\".format(facial_feature, face_landmarks[facial_feature]))\n",
    "\n",
    "    # Let's trace out each facial feature in the image with a line!\n",
    "    for facial_feature in face_landmarks.keys():\n",
    "        d.line(face_landmarks[facial_feature], width=5)\n",
    "\n",
    "# Show the picture\n",
    "pil_image.show()"
   ]
  },
  {
   "cell_type": "code",
   "execution_count": null,
   "metadata": {},
   "outputs": [],
   "source": []
  }
 ],
 "metadata": {
  "kernelspec": {
   "display_name": "Python 3",
   "language": "python",
   "name": "python3"
  },
  "language_info": {
   "codemirror_mode": {
    "name": "ipython",
    "version": 3
   },
   "file_extension": ".py",
   "mimetype": "text/x-python",
   "name": "python",
   "nbconvert_exporter": "python",
   "pygments_lexer": "ipython3",
   "version": "3.7.3"
  }
 },
 "nbformat": 4,
 "nbformat_minor": 4
}
