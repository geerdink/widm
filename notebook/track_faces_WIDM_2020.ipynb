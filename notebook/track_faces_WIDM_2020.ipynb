{
 "cells": [
  {
   "cell_type": "markdown",
   "metadata": {},
   "source": [
    "### This demo shows how to detect faces from video and displays result in realtime\n",
    "\n",
    "You need OpenCV installed to run this example. To install it, run ___pip install opencv-python___\n"
   ]
  },
  {
   "cell_type": "code",
   "execution_count": 1,
   "metadata": {},
   "outputs": [
    {
     "name": "stdout",
     "output_type": "stream",
     "text": [
      "Populating the interactive namespace from numpy and matplotlib\n"
     ]
    }
   ],
   "source": [
    "%pylab inline \n",
    "import face_recognition\n",
    "import cv2\n",
    "import matplotlib.patches as patches\n",
    "from IPython.display import clear_output\n",
    "from matplotlib.pyplot import imshow\n",
    "import matplotlib.pylab as plt"
   ]
  },
  {
   "cell_type": "code",
   "execution_count": 2,
   "metadata": {},
   "outputs": [],
   "source": [
    "# Load some sample pictures and learn how to recognize them.\n",
    "an_image = face_recognition.load_image_file(\"../img/anita.jpg\")\n",
    "an_face_encoding = face_recognition.face_encodings(an_image)[0]\n",
    "\n",
    "bu_image = face_recognition.load_image_file(\"../img/buddy.jpg\")\n",
    "bu_face_encoding = face_recognition.face_encodings(bu_image)[0]\n",
    "\n",
    "cl_image = face_recognition.load_image_file(\"../img/claes.jpg\")\n",
    "cl_face_encoding = face_recognition.face_encodings(cl_image)[0]\n",
    "\n",
    "ja_image = face_recognition.load_image_file(\"../img/jaike.jpg\")\n",
    "ja_face_encoding = face_recognition.face_encodings(ja_image)[0]\n",
    "\n",
    "jo_image = face_recognition.load_image_file(\"../img/johan.jpg\")\n",
    "jo_face_encoding = face_recognition.face_encodings(jo_image)[0]\n",
    "\n",
    "le_image = face_recognition.load_image_file(\"../img/leonie.jpg\")\n",
    "le_face_encoding = face_recognition.face_encodings(le_image)[0]\n",
    "\n",
    "mi_image = face_recognition.load_image_file(\"../img/miljuschja.jpg\")\n",
    "mi_face_encoding = face_recognition.face_encodings(mi_image)[0]\n",
    "\n",
    "na_image = face_recognition.load_image_file(\"../img/nathan.jpg\")\n",
    "na_face_encoding = face_recognition.face_encodings(na_image)[0]\n",
    "\n",
    "ro_image = face_recognition.load_image_file(\"../img/rob.jpg\")\n",
    "ro_face_encoding = face_recognition.face_encodings(ro_image)[0]\n",
    "\n",
    "ti_image = face_recognition.load_image_file(\"../img/tina.jpg\")\n",
    "ti_face_encoding = face_recognition.face_encodings(ti_image)[0]\n",
    "\n",
    "known_faces = [\n",
    "    an_face_encoding,\n",
    "    bu_face_encoding,\n",
    "    cl_face_encoding,\n",
    "    ja_face_encoding,\n",
    "    jo_face_encoding,\n",
    "    le_face_encoding,\n",
    "    mi_face_encoding,\n",
    "    na_face_encoding,\n",
    "    ro_face_encoding,\n",
    "    ti_face_encoding,\n",
    "]\n",
    "\n",
    "# Initialize some variables\n",
    "face_locations = []\n",
    "face_encodings = []\n",
    "face_names = []\n",
    "frame_number = 0"
   ]
  },
  {
   "cell_type": "code",
   "execution_count": 3,
   "metadata": {},
   "outputs": [],
   "source": [
    "anita = 0\n",
    "buddy = 0\n",
    "claes = 0\n",
    "jaike = 0\n",
    "johan = 0\n",
    "leonie = 0\n",
    "miljuschja = 0\n",
    "nathan = 0\n",
    "rob = 0\n",
    "tina = 0"
   ]
  },
  {
   "cell_type": "code",
   "execution_count": 4,
   "metadata": {},
   "outputs": [],
   "source": [
    "# Create an output movie file (make sure resolution/frame rate matches input video!)\n",
    "fourcc = cv2.VideoWriter_fourcc(*'XVID')\n",
    "output_movie = cv2.VideoWriter('output4.avi', fourcc, 25, (640, 360))"
   ]
  },
  {
   "cell_type": "code",
   "execution_count": null,
   "metadata": {},
   "outputs": [],
   "source": []
  },
  {
   "cell_type": "code",
   "execution_count": 4,
   "metadata": {
    "scrolled": false
   },
   "outputs": [],
   "source": []
  },
  {
   "cell_type": "code",
   "execution_count": 6,
   "metadata": {},
   "outputs": [],
   "source": [
    "# Loading video for face detection\n",
    "# afl1 : bb_AT_2091347.m4v\n",
    "# afl2 : bb_AT_2091348.m4v\n",
    "# afl3 : bb_AT_2091349.m4v\n",
    "# afl4 : bb_AT_2091350.m4v\n",
    "video_capture = cv2.VideoCapture(\"../episodes/trailer.mp4\")\n",
    "length = int(video_capture.get(cv2.CAP_PROP_FRAME_COUNT))\n",
    "print(length)\n",
    "\n",
    "frame_count = 0\n",
    "a = False\n",
    "\n",
    "while video_capture.isOpened():    \n",
    "    # Grab a single frame of video\n",
    "    ret, frame = video_capture.read()\n",
    "\n",
    "    # Bail out when the video file ends\n",
    "    if not ret:\n",
    "        video_capture.release()\n",
    "        break\n",
    "        \n",
    "    # We will search face in every 15 frames to speed up process.\n",
    "    frame_count += 1\n",
    "    if frame_count % 500 == 0:\n",
    "        print('{}/{}'.format(frame_count,length))\n",
    "    if frame_count % 15 == 0:    \n",
    "        frame = cv2.cvtColor(frame, cv2.COLOR_BGR2RGB)      \n",
    "\n",
    "        # Find all the faces and face encodings in the current frame of video\n",
    "        rgb_frame = frame[:, :, ::-1]\n",
    "        face_locations = face_recognition.face_locations(rgb_frame)\n",
    "        face_encodings = face_recognition.face_encodings(rgb_frame, face_locations)\n",
    "\n",
    "        face_names = []\n",
    "        for face_encoding in face_encodings:\n",
    "            # See if the face is a match for the known face(s)\n",
    "            match = face_recognition.compare_faces(known_faces, face_encoding, tolerance=0.50)\n",
    "\n",
    "            # If you had more than 2 faces, you could make this logic a lot prettier\n",
    "            # but I kept it simple for the demo\n",
    "            name = None\n",
    "            if match[0]:\n",
    "                anita += 1\n",
    "                name = 'anita'\n",
    "            elif match[1]:\n",
    "                buddy += 1\n",
    "                name = 'buddy'\n",
    "            elif match[2]:\n",
    "                claes += 1\n",
    "                name = 'claes'\n",
    "            elif match[3]:\n",
    "                jaike += 1\n",
    "                name = 'jaike'\n",
    "            elif match[4]:\n",
    "                johan += 1\n",
    "                name = 'johan'\n",
    "            elif match[5]:\n",
    "                leonie += 1\n",
    "                name = 'leonie'\n",
    "            elif match[6]:\n",
    "                miljuschja += 1\n",
    "                name = 'miljuschja'\n",
    "            elif match[7]:\n",
    "                nathan += 1\n",
    "                name = 'nathan'\n",
    "            elif match[8]:\n",
    "                rob += 1\n",
    "                name = 'rob'\n",
    "            elif match[9]:\n",
    "                tina += 1\n",
    "                name = 'tina'\n",
    "            \n",
    "            face_names.append(name)\n",
    "        \n",
    "        for (top, right, bottom, left), name in zip(face_locations, face_names):\n",
    "            if not name:\n",
    "                continue\n",
    "                \n",
    "            cv2.rectangle(frame, (left, top), (right, bottom), (0,0, 255),2)\n",
    "            \n",
    "            cv2.rectangle(frame, (left, bottom -25), (right, bottom), (0,0,255), cv2.FILLED)\n",
    "            font = cv2.FONT_HERSHEY_DUPLEX\n",
    "            cv2.putText(frame, name, (left + 6, bottom -6), font, 0.5, (255, 255, 255), 1)\n",
    "            \n",
    "        #print('writing frame {} / {}'.format(frame_number, length))\n",
    "        output_movie.write(frame)\n",
    "cv2.destroyAllWindows()"
   ]
  },
  {
   "cell_type": "code",
   "execution_count": 2,
   "metadata": {},
   "outputs": [],
   "source": [
    "print(anita, buddy, claes, jaike, johan, leonie, miljuschja, nathan, rob, tina)"
   ]
  },
  {
   "cell_type": "code",
   "execution_count": null,
   "metadata": {},
   "outputs": [],
   "source": []
  }
 ],
 "metadata": {
  "kernelspec": {
   "display_name": "Python 3",
   "language": "python",
   "name": "python3"
  },
  "language_info": {
   "codemirror_mode": {
    "name": "ipython",
    "version": 3
   },
   "file_extension": ".py",
   "mimetype": "text/x-python",
   "name": "python",
   "nbconvert_exporter": "python",
   "pygments_lexer": "ipython3",
   "version": "3.7.4"
  }
 },
 "nbformat": 4,
 "nbformat_minor": 2
}
